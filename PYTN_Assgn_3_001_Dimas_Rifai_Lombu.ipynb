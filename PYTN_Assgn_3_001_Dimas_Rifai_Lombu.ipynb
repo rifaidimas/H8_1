{
  "nbformat": 4,
  "nbformat_minor": 0,
  "metadata": {
    "kernelspec": {
      "display_name": "Python 3",
      "language": "python",
      "name": "python3"
    },
    "language_info": {
      "codemirror_mode": {
        "name": "ipython",
        "version": 3
      },
      "file_extension": ".py",
      "mimetype": "text/x-python",
      "name": "python",
      "nbconvert_exporter": "python",
      "pygments_lexer": "ipython3",
      "version": "3.7.3"
    },
    "toc": {
      "base_numbering": 1,
      "nav_menu": {},
      "number_sections": true,
      "sideBar": true,
      "skip_h1_title": false,
      "title_cell": "Table of Contents",
      "title_sidebar": "Contents",
      "toc_cell": false,
      "toc_position": {},
      "toc_section_display": true,
      "toc_window_display": false
    },
    "colab": {
      "name": "PYTN_Assgn_3_001_Dimas Rifai Lombu.ipynb",
      "provenance": [],
      "collapsed_sections": []
    }
  },
  "cells": [
    {
      "cell_type": "markdown",
      "metadata": {
        "id": "iB3vu9ShdyTF"
      },
      "source": [
        "\n",
        "### Keterangan [data](https://archive.ics.uci.edu/ml/datasets/Bank+Marketing) yang digunakan\n",
        "\n",
        "- 1 — age (numeric)\n",
        "- 2 — job : type of job (categorical: ‘admin.’,’blue-collar’,’entrepreneur’,’housemaid’,’management’,’retired’,’self-employed’,’services’,’student’,’technician’,’unemployed’,’unknown’)\n",
        "- 3 — marital : marital status (categorical: ‘divorced’, ‘married’, ‘single’, ‘unknown’; note: ‘divorced’ means divorced or widowed)\n",
        "- 4 — education (categorical: ‘basic.4y’,’basic.6y’,’basic.9y’,’high.school’,’illiterate’,’professional.course’,’university.degree’,’unknown’)\n",
        "- 5 — default: has credit in default? (categorical: ‘no’, ‘yes’, ‘unknown’)\n",
        "- 6 — housing: has housing loan? (categorical: ‘no’, ‘yes’ ,’unknown’)\n",
        "- 7 — loan: has personal loan? (categorical: ‘no’, ‘yes’, ‘unknown’)\n",
        "\n",
        "#### related with the last contact of the current campaign:\n",
        "- 8 — contact: contact communication type (categorical: ‘cellular’, ‘telephone’)\n",
        "- 9 — month: last contact month of year (categorical: ‘jan’, ‘feb’, ‘mar’, …, ‘nov’, ‘dec’)\n",
        "- 10 — day_of_week: last contact day of the week (categorical: ‘mon’,’tue’,’wed’,’thu’,’fri’)\n",
        "- 11 — duration: last contact duration, in seconds (numeric).\n",
        "Important note: this attribute highly affects the output target (e.g., if duration=0 then y=’no’). Yet, the duration is not known before a call is performed. Also, after the end of the call y is obviously known. Thus, this input should only be included for benchmark purposes and should be discarded if the intention is to have a realistic predictive model.\n",
        "\n",
        "#### other attributes:\n",
        "- 12 — campaign: number of contacts performed during this campaign and for this client (numeric, includes last contact)\n",
        "- 13 — pdays: number of days that passed by after the client was last contacted from a previous campaign (numeric; 999 means client was not previously contacted)\n",
        "- 14 — previous: number of contacts performed before this campaign and for this client (numeric)\n",
        "- 15 — poutcome: outcome of the previous marketing campaign (categorical: ‘failure’,’nonexistent’,’success’)\n",
        "\n",
        "#### social and economic context attributes\n",
        "- 16 — emp.var.rate: employment variation rate — quarterly indicator (numeric)\n",
        "- 17 — cons.price.idx: consumer price index — monthly indicator (numeric)\n",
        "- 18 — cons.conf.idx: consumer confidence index — monthly indicator (numeric)\n",
        "- 19 — euribor3m: euribor 3 month rate — daily indicator (numeric)\n",
        "- 20 — nr.employed: number of employees — quarterly indicator (numeric)\n",
        "\n",
        "#### Output variable (desired target):\n",
        "21 — y — has the client subscribed a term deposit? (binary: ‘yes’, ‘no’)  "
      ]
    },
    {
      "cell_type": "markdown",
      "metadata": {
        "id": "93ZbDZRxRUeP"
      },
      "source": [
        "### Import module "
      ]
    },
    {
      "cell_type": "code",
      "metadata": {
        "id": "AE1uUS4hRUeY"
      },
      "source": [
        "import pandas as pd \n",
        "import numpy as np \n",
        "import matplotlib.pyplot as plt\n",
        "from sklearn import metrics\n",
        "from sklearn.preprocessing import OneHotEncoder\n",
        "from sklearn.model_selection import train_test_split\n",
        "from sklearn import tree\n",
        "from sklearn.ensemble import RandomForestClassifier\n",
        "from sklearn.naive_bayes import GaussianNB\n",
        "from sklearn.neighbors import KNeighborsClassifier\n",
        "from sklearn import svm"
      ],
      "execution_count": 1,
      "outputs": []
    },
    {
      "cell_type": "markdown",
      "metadata": {
        "id": "im3mCs10VSSB"
      },
      "source": [
        "### Membuat fungsi evaluation model "
      ]
    },
    {
      "cell_type": "code",
      "metadata": {
        "id": "YLzeGy_gRUeb"
      },
      "source": [
        "def evaluate_model(model, x_test, y_test):\n",
        "    from sklearn import metrics\n",
        "\n",
        "    # Prediction Test Data \n",
        "    y_pred = model.predict(x_test)\n",
        "\n",
        "    # Calculate accuracy, precision, recall, f1-score, and kappa score\n",
        "    accuracy = metrics.accuracy_score(y_test, y_pred)\n",
        "    \n",
        "    # Calculate precision, recall, f1-score, and kappa score\n",
        "    precision = metrics.precision_score(y_test, y_pred)\n",
        "\n",
        "    # Caclculate recall \n",
        "    recall = metrics.recall_score(y_test, y_pred)\n",
        "    # calculate f1-score\n",
        "    f1_score = metrics.f1_score(y_test, y_pred)\n",
        "    # calculate kappa score \n",
        "    kappa_score = metrics.cohen_kappa_score(y_test, y_pred)\n",
        "\n",
        "    # Calculate area under curve (AUC)\n",
        "    y_pred_proba = model.predict_proba(x_test)[::,1]\n",
        "\n",
        "    fpr, tpr, _ = metrics.roc_curve(y_test, y_pred_proba)\n",
        "    \n",
        "    auc_score = metrics.roc_auc_score(y_test, y_pred_proba)\n",
        "\n",
        "    # Display confussion matrix\n",
        "    cm = metrics.confusion_matrix(y_test, y_pred)\n",
        "\n",
        "    return {'accuracy': accuracy, 'precision': precision, 'recall': recall, 'f1_score': f1_score, 'kappa_score': kappa_score, \n",
        "           'fpr': fpr, 'tpr': tpr, 'auc_score': auc_score, 'cm': cm}\n",
        "    # return {'accuracy': accuracy, 'precision': precision, 'recall': recall, 'f1_score': f1_score, 'kappa_score': kappa_score, \n",
        "    #         'cm': cm}        "
      ],
      "execution_count": 2,
      "outputs": []
    },
    {
      "cell_type": "markdown",
      "metadata": {
        "id": "cBfYkBj_Vfie"
      },
      "source": [
        "### Melakukan load data"
      ]
    },
    {
      "cell_type": "code",
      "metadata": {
        "id": "8_fmCmS0RUee"
      },
      "source": [
        "def get_data(url): \n",
        "    df_bank = pd.read_csv(url,sep=';',engine='python')\n",
        "    return df_bank "
      ],
      "execution_count": 3,
      "outputs": []
    },
    {
      "cell_type": "markdown",
      "metadata": {
        "id": "CR0sWZw8ZtHp"
      },
      "source": [
        "### Melakukan processing data"
      ]
    },
    {
      "cell_type": "code",
      "metadata": {
        "id": "xfEgppN_RUeg"
      },
      "source": [
        "def processing_eda(df):\n",
        "    df = df.rename(columns={'y': 'deposit'}) \n",
        "    df = scalling_data(df)\n",
        "    df = encoding_data(df)\n",
        "    return df "
      ],
      "execution_count": 4,
      "outputs": []
    },
    {
      "cell_type": "code",
      "metadata": {
        "id": "BrC3nGU2RUeh"
      },
      "source": [
        "def scalling_data(df):\n",
        "    from sklearn.preprocessing import StandardScaler\n",
        "    scaler = StandardScaler()\n",
        "    num_cols = ['age', 'balance', 'day', 'campaign', 'pdays', 'previous']\n",
        "    df[num_cols] = scaler.fit_transform(df[num_cols])\n",
        "    return df"
      ],
      "execution_count": 5,
      "outputs": []
    },
    {
      "cell_type": "code",
      "metadata": {
        "id": "yz9y5q3-RUej"
      },
      "source": [
        "kol_cat = ['job', 'marital', 'education', 'default', 'housing', 'loan', 'contact', 'month', 'poutcome']\n",
        "def encoding_data(df):\n",
        "    # Encoder \n",
        "    from sklearn.preprocessing import OneHotEncoder\n",
        "    encoder = OneHotEncoder(sparse=False)\n",
        "\n",
        "    # process encode categorical data \n",
        "    df_encode = pd.DataFrame(encoder.fit_transform(df[kol_cat]))\n",
        "    ##print(df_encode)\n",
        "    df_encode.columns = encoder.get_feature_names(kol_cat)\n",
        "    #print(df_encode.columns)\n",
        "    \n",
        "    df = df.drop(kol_cat ,axis=1)\n",
        "\n",
        "    #print(df)\n",
        "    df = pd.concat([df_encode, df], axis=1)\n",
        "    # Encode target value\n",
        "    df['deposit'] = df['deposit'].apply(lambda x: 1 if x == 'yes' else 0)\n",
        "    return df"
      ],
      "execution_count": 6,
      "outputs": []
    },
    {
      "cell_type": "code",
      "metadata": {
        "id": "mNAUFsNWRUel"
      },
      "source": [
        "def split_data(df,test_size):\n",
        "    # Select Target\n",
        "    target = df['deposit']\n",
        "    # Select Features\n",
        "    feature = df.drop('deposit', axis=1)\n",
        "    from sklearn.model_selection import train_test_split\n",
        "    X_train, X_test, y_train, y_test = train_test_split(feature , target, \n",
        "                                                    shuffle = True, \n",
        "                                                    test_size=test_size, \n",
        "                                                    random_state=1)\n",
        "\n",
        "    return X_train,X_test,y_train,y_test "
      ],
      "execution_count": 7,
      "outputs": []
    },
    {
      "cell_type": "code",
      "metadata": {
        "id": "d4-OChx3RUen"
      },
      "source": [
        "url = \"https://raw.githubusercontent.com/rifaidimas/H8_1/main/data/bank.csv\"\n",
        "df = get_data(url)\n",
        "df = processing_eda(df) \n",
        "X_train, X_test, y_train, y_test = split_data(df,0.2) "
      ],
      "execution_count": 8,
      "outputs": []
    },
    {
      "cell_type": "markdown",
      "metadata": {
        "id": "oHwRuRJ7Z1kO"
      },
      "source": [
        "### Membangun model Decision Tree"
      ]
    },
    {
      "cell_type": "code",
      "metadata": {
        "colab": {
          "base_uri": "https://localhost:8080/"
        },
        "id": "e-lXH8fuRUer",
        "outputId": "3164d20c-15dc-475d-82ff-d808d92132c7"
      },
      "source": [
        "from sklearn import tree\n",
        "model_dtree = tree.DecisionTreeClassifier(random_state=0)\n",
        "model_dtree.fit(X_train, y_train)\n",
        "eval_dtree = evaluate_model(model_dtree, X_test, y_test)\n",
        "print('DTree Accuracy:', eval_dtree['accuracy'])"
      ],
      "execution_count": 9,
      "outputs": [
        {
          "output_type": "stream",
          "name": "stdout",
          "text": [
            "DTree Accuracy: 0.8820081831250691\n"
          ]
        }
      ]
    },
    {
      "cell_type": "markdown",
      "metadata": {
        "id": "0PAc9sy5Z844"
      },
      "source": [
        "### Membangun model Random Forest"
      ]
    },
    {
      "cell_type": "code",
      "metadata": {
        "colab": {
          "base_uri": "https://localhost:8080/"
        },
        "id": "3BIxL3RRRUes",
        "outputId": "a16f9115-fc6a-472e-b846-10c3c3a24fd7"
      },
      "source": [
        "from sklearn.ensemble import RandomForestClassifier\n",
        "model_rf = RandomForestClassifier(random_state=0)\n",
        "model_rf.fit(X_train, y_train)\n",
        "eval_rf = evaluate_model(model_rf, X_test, y_test)\n",
        "print('RandomForest Accuracy:', eval_rf['accuracy'])"
      ],
      "execution_count": 10,
      "outputs": [
        {
          "output_type": "stream",
          "name": "stdout",
          "text": [
            "RandomForest Accuracy: 0.907110472188433\n"
          ]
        }
      ]
    },
    {
      "cell_type": "markdown",
      "metadata": {
        "id": "ilMmqNrQaDR5"
      },
      "source": [
        "### Membangun model Naive Bayes "
      ]
    },
    {
      "cell_type": "code",
      "metadata": {
        "colab": {
          "base_uri": "https://localhost:8080/"
        },
        "id": "lscPBnjjRUet",
        "outputId": "df1fd487-864e-40e2-ccba-f3907666c2c6"
      },
      "source": [
        "from sklearn.naive_bayes import GaussianNB\n",
        "model_nb = GaussianNB()\n",
        "model_nb.fit(X_train, y_train)\n",
        "eval_nb = evaluate_model(model_nb, X_test, y_test)\n",
        "print('Naive Bayes Accuracy:', eval_nb['accuracy'])"
      ],
      "execution_count": 11,
      "outputs": [
        {
          "output_type": "stream",
          "name": "stdout",
          "text": [
            "Naive Bayes Accuracy: 0.8514873382726971\n"
          ]
        }
      ]
    },
    {
      "cell_type": "markdown",
      "metadata": {
        "id": "HDvdbT3saHxW"
      },
      "source": [
        "### Membangun model KNN model "
      ]
    },
    {
      "cell_type": "code",
      "metadata": {
        "colab": {
          "base_uri": "https://localhost:8080/"
        },
        "id": "4JUDemHDRUeu",
        "outputId": "350db70d-27d7-48cf-d568-c9bde94d6ae6"
      },
      "source": [
        "from sklearn.neighbors import KNeighborsClassifier\n",
        "model_knn = KNeighborsClassifier()\n",
        "model_knn.fit(X_train, y_train)\n",
        "eval_knn = evaluate_model(model_knn, X_test, y_test)\n",
        "print('KNN Accuracy:', eval_knn['accuracy'])"
      ],
      "execution_count": 12,
      "outputs": [
        {
          "output_type": "stream",
          "name": "stdout",
          "text": [
            "KNN Accuracy: 0.8894172287957536\n"
          ]
        }
      ]
    },
    {
      "cell_type": "markdown",
      "metadata": {
        "id": "8bMt_TeFaNSt"
      },
      "source": [
        "### Membangun model SVM "
      ]
    },
    {
      "cell_type": "code",
      "metadata": {
        "colab": {
          "base_uri": "https://localhost:8080/"
        },
        "id": "Ks1PejdqRUev",
        "outputId": "4fb9553f-40a0-4ede-e6ce-323c90a80a1c"
      },
      "source": [
        "from sklearn import svm\n",
        "model_svm= svm.SVC(probability=True)\n",
        "model_svm.fit(X_train,y_train)\n",
        "eval_svm = evaluate_model(model_svm, X_test, y_test)\n",
        "print('SVM Accuracy:', eval_svm['accuracy'])"
      ],
      "execution_count": 13,
      "outputs": [
        {
          "output_type": "stream",
          "name": "stdout",
          "text": [
            "SVM Accuracy: 0.8893066460245493\n"
          ]
        }
      ]
    },
    {
      "cell_type": "markdown",
      "metadata": {
        "id": "xp01SS-7fqwj"
      },
      "source": [
        "### Perbandingan dari model"
      ]
    },
    {
      "cell_type": "code",
      "metadata": {
        "colab": {
          "base_uri": "https://localhost:8080/",
          "height": 493
        },
        "id": "cYVm1LaRRUew",
        "outputId": "88f578bf-cd62-4a20-961d-c0f870531b4d"
      },
      "source": [
        "# Intitialize figure with two plots\n",
        "fig, (ax1, ax2) = plt.subplots(1, 2)\n",
        "fig.suptitle('Model Comparison', fontsize=16, fontweight='bold')\n",
        "fig.set_figheight(7)\n",
        "fig.set_figwidth(14)\n",
        "fig.set_facecolor('white')\n",
        "\n",
        "# First plot\n",
        "## set bar size\n",
        "barWidth = 0.2\n",
        "dtc_score = [eval_dtree['accuracy'], eval_dtree['precision'], eval_dtree['recall'], eval_dtree['f1_score'], eval_dtree['kappa_score']]\n",
        "rf_score = [eval_rf['accuracy'], eval_rf['precision'], eval_rf['recall'], eval_rf['f1_score'], eval_rf['kappa_score']]\n",
        "nb_score = [eval_nb['accuracy'], eval_nb['precision'], eval_nb['recall'], eval_nb['f1_score'], eval_nb['kappa_score']]\n",
        "knn_score = [eval_knn['accuracy'], eval_knn['precision'], eval_knn['recall'], eval_knn['f1_score'], eval_knn['kappa_score']]\n",
        "\n",
        "## Set position of bar on X axis\n",
        "r1 = np.arange(len(dtc_score))\n",
        "r2 = [x + barWidth for x in r1]\n",
        "r3 = [x + barWidth for x in r2]\n",
        "r4 = [x + barWidth for x in r3]\n",
        "\n",
        "## Make the plot\n",
        "ax1.bar(r1, dtc_score, width=barWidth, edgecolor='white', label='Decision Tree')\n",
        "ax1.bar(r2, rf_score, width=barWidth, edgecolor='white', label='Random Forest')\n",
        "ax1.bar(r3, nb_score, width=barWidth, edgecolor='white', label='Naive Bayes')\n",
        "ax1.bar(r4, knn_score, width=barWidth, edgecolor='white', label='K-Nearest Neighbors')\n",
        "\n",
        "## Configure x and y axis\n",
        "ax1.set_xlabel('Metrics', fontweight='bold')\n",
        "labels = ['Accuracy', 'Precision', 'Recall', 'F1', 'Kappa']\n",
        "ax1.set_xticks([r + (barWidth * 1.5) for r in range(len(dtc_score))], )\n",
        "ax1.set_xticklabels(labels)\n",
        "ax1.set_ylabel('Score', fontweight='bold')\n",
        "ax1.set_ylim(0, 1)\n",
        "\n",
        "## Create legend & title\n",
        "ax1.set_title('Evaluation Metrics', fontsize=14, fontweight='bold')\n",
        "ax1.legend()\n",
        "\n",
        "# Second plot\n",
        "## Comparing ROC Curve\n",
        "ax2.plot(eval_dtree['fpr'], eval_dtree['tpr'], label='Decision Tree, auc = {:0.5f}'.format(eval_dtree['auc_score']))\n",
        "ax2.plot(eval_rf['fpr'], eval_rf['tpr'], label='Random Forest, auc = {:0.5f}'.format(eval_rf['auc_score']))\n",
        "ax2.plot(eval_nb['fpr'], eval_nb['tpr'], label='Naive Bayes, auc = {:0.5f}'.format(eval_nb['auc_score']))\n",
        "ax2.plot(eval_knn['fpr'], eval_knn['tpr'], label='K-Nearest Nieghbor, auc = {:0.5f}'.format(eval_knn['auc_score']))\n",
        "\n",
        "## Configure x and y axis\n",
        "ax2.set_xlabel('False Positive Rate', fontweight='bold')\n",
        "ax2.set_ylabel('True Positive Rate', fontweight='bold')\n",
        "\n",
        "## Create legend & title\n",
        "ax2.set_title('ROC Curve', fontsize=14, fontweight='bold')\n",
        "ax2.legend(loc=4)\n",
        "\n",
        "plt.show()"
      ],
      "execution_count": 14,
      "outputs": [
        {
          "output_type": "display_data",
          "data": {
            "image/png": "[encoded data removed]",
            "text/plain": [
              "<Figure size 1008x504 with 2 Axes>"
            ]
          },
          "metadata": {}
        }
      ]
    }
  ]
}